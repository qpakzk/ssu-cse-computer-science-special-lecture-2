{
 "cells": [
  {
   "cell_type": "markdown",
   "metadata": {},
   "source": [
    "# Deep Learning\n",
    "## Neural Network"
   ]
  },
  {
   "cell_type": "code",
   "execution_count": 1,
   "metadata": {},
   "outputs": [],
   "source": [
    "import numpy as np"
   ]
  },
  {
   "cell_type": "code",
   "execution_count": 2,
   "metadata": {},
   "outputs": [],
   "source": [
    "def sigmoid(x):\n",
    "    return 1 / (1 + np.exp(-x))"
   ]
  },
  {
   "cell_type": "code",
   "execution_count": 3,
   "metadata": {},
   "outputs": [],
   "source": [
    "def numerical_derivative(f, x):\n",
    "    delta_x = 1e-4\n",
    "    grad = np.zeros_like(x)\n",
    "    \n",
    "    it = np.nditer(x, flags=['multi_index'], op_flags=['readwrite'])\n",
    "    \n",
    "    while not it.finished:\n",
    "        idx = it.multi_index\n",
    "        tmp_val = x[idx]\n",
    "        \n",
    "        x[idx] = tmp_val + delta_x\n",
    "        fx1 = f(x)\n",
    "        \n",
    "        x[idx] = tmp_val - delta_x\n",
    "        fx2 = f(x)\n",
    "        \n",
    "        grad[idx] = (fx1 - fx2) / (2 * delta_x)\n",
    "        x[idx] = tmp_val\n",
    "        \n",
    "        it.iternext()\n",
    "    return grad"
   ]
  },
  {
   "cell_type": "code",
   "execution_count": 4,
   "metadata": {},
   "outputs": [],
   "source": [
    "class LogicGate:\n",
    "    def __init__(self, gate_name, xdata, tdata):\n",
    "        self.name = gate_name\n",
    "        \n",
    "        self.__xdata = xdata.reshape(4, 2)\n",
    "        self.__tdata = tdata.reshape(4, 1)\n",
    "        \n",
    "        self.__W2 = np.random.rand(2, 6)\n",
    "        self.__b2 = np.random.rand(6)\n",
    "        \n",
    "        self.__W3 = np.random.rand(6, 1)\n",
    "        self.__b3 = np.random.rand(1)\n",
    "        \n",
    "        self.__learning_rate = 1e-2\n",
    "    \n",
    "        print(self.name, \"object is created\")\n",
    "\n",
    "    def feed_forward(self):\n",
    "        delta = 1e-7\n",
    "        \n",
    "        z2 = np.dot(self.__xdata, self.__W2) + self.__b2\n",
    "        a2 = sigmoid(z2)\n",
    "        \n",
    "        z3 = np.dot(a2, self.__W3) + self.__b3\n",
    "        y = a3 = sigmoid(z3)\n",
    "        \n",
    "        return -np.sum(self.__tdata * np.log(y + delta) + (1 - self.__tdata) * np.log((1 - y) + delta))\n",
    "    \n",
    "    def loss_val(self):\n",
    "        delta = 1e-7\n",
    "        \n",
    "        z2 = np.dot(self.__xdata, self.__W2) + self.__b2\n",
    "        a2 = sigmoid(z2)\n",
    "        \n",
    "        z3 = np.dot(a2, self.__W3) + self.__b3\n",
    "        y = a3 = sigmoid(z3)\n",
    "        \n",
    "        return -np.sum(self.__tdata * np.log(y + delta) + (1 - self.__tdata) * np.log((1 - y) + delta))\n",
    "    \n",
    "    def train(self):\n",
    "        f = lambda x : self.feed_forward()\n",
    "        \n",
    "        print(\"Initial loss value =\", self.loss_val())\n",
    "        \n",
    "        for step in range(10001):\n",
    "            self.__W2 -= self.__learning_rate * numerical_derivative(f, self.__W2)\n",
    "            self.__b2 -= self.__learning_rate * numerical_derivative(f, self.__b2)\n",
    "            \n",
    "            self.__W3 -= self.__learning_rate * numerical_derivative(f, self.__W3)\n",
    "            self.__b3 -= self.__learning_rate * numerical_derivative(f, self.__b3)\n",
    "            \n",
    "            if step % 400 == 0:\n",
    "                print(\"step =\", step, \"loss value =\", self.loss_val())\n",
    "\n",
    "    def predict(self, input_data):\n",
    "        z2 = np.dot(input_data, self.__W2) + self.__b2\n",
    "        a2 = sigmoid(z2)\n",
    "        \n",
    "        z3 = np.dot(a2, self.__W3) + self.__b3\n",
    "        y = a3 = sigmoid(z3)\n",
    "        \n",
    "        if y > 0.5:\n",
    "            result = 1\n",
    "        else:\n",
    "            result = 0\n",
    "        \n",
    "        return y, result"
   ]
  },
  {
   "cell_type": "markdown",
   "metadata": {},
   "source": [
    "### AND Gate"
   ]
  },
  {
   "cell_type": "code",
   "execution_count": 5,
   "metadata": {
    "scrolled": false
   },
   "outputs": [
    {
     "name": "stdout",
     "output_type": "stream",
     "text": [
      "AND object is created\n",
      "Initial loss value = 6.817373049995152\n",
      "step = 0 loss value = 6.573398754855648\n",
      "step = 400 loss value = 2.2703038105870004\n",
      "step = 800 loss value = 2.1220320682891027\n",
      "step = 1200 loss value = 1.9146317459777575\n",
      "step = 1600 loss value = 1.636888582645165\n",
      "step = 2000 loss value = 1.321914303942739\n",
      "step = 2400 loss value = 1.0223670815101804\n",
      "step = 2800 loss value = 0.7759119542476813\n",
      "step = 3200 loss value = 0.591508056669505\n",
      "step = 3600 loss value = 0.4595166274385759\n",
      "step = 4000 loss value = 0.3657170213417306\n",
      "step = 4400 loss value = 0.29815318079414244\n",
      "step = 4800 loss value = 0.24840018787217044\n",
      "step = 5200 loss value = 0.21087080644572284\n",
      "step = 5600 loss value = 0.18190175870366682\n",
      "step = 6000 loss value = 0.15906671722387475\n",
      "step = 6400 loss value = 0.14072789855940854\n",
      "step = 6800 loss value = 0.12575543557784902\n",
      "step = 7200 loss value = 0.11335259346148535\n",
      "step = 7600 loss value = 0.10294571681104356\n",
      "step = 8000 loss value = 0.09411371269846135\n",
      "step = 8400 loss value = 0.08654196008196531\n",
      "step = 8800 loss value = 0.07999156918554465\n",
      "step = 9200 loss value = 0.0742784727483293\n",
      "step = 9600 loss value = 0.06925893826770446\n",
      "step = 10000 loss value = 0.06481935384009907\n"
     ]
    }
   ],
   "source": [
    "xdata = np.array([[0, 0], [0, 1], [1, 0], [1, 1]])\n",
    "tdata = np.array([0, 0, 0, 1])\n",
    "\n",
    "and_obj = LogicGate(\"AND\", xdata, tdata)\n",
    "and_obj.train()"
   ]
  },
  {
   "cell_type": "code",
   "execution_count": 6,
   "metadata": {
    "scrolled": false
   },
   "outputs": [
    {
     "name": "stdout",
     "output_type": "stream",
     "text": [
      "(array([0.00169032]), 0)\n",
      "(array([0.01540639]), 0)\n",
      "(array([0.01659547]), 0)\n",
      "(array([0.96960453]), 1)\n"
     ]
    }
   ],
   "source": [
    "test_data = np.array([[0, 0], [0, 1], [1, 0], [1, 1]])\n",
    "\n",
    "for data in test_data:\n",
    "    print(and_obj.predict(data))"
   ]
  },
  {
   "cell_type": "markdown",
   "metadata": {},
   "source": [
    "### OR Gate"
   ]
  },
  {
   "cell_type": "code",
   "execution_count": 7,
   "metadata": {
    "scrolled": false
   },
   "outputs": [
    {
     "name": "stdout",
     "output_type": "stream",
     "text": [
      "OR object is created\n",
      "Initial loss value = 2.2102239893700557\n",
      "step = 0 loss value = 2.204864494967072\n",
      "step = 400 loss value = 1.9412820119008956\n",
      "step = 800 loss value = 1.7111373370501575\n",
      "step = 1200 loss value = 1.3882910706748075\n",
      "step = 1600 loss value = 1.0392320981171377\n",
      "step = 2000 loss value = 0.748629349541852\n",
      "step = 2400 loss value = 0.5415402629196583\n",
      "step = 2800 loss value = 0.4025054484900657\n",
      "step = 3200 loss value = 0.309416752158331\n",
      "step = 3600 loss value = 0.24562166356646908\n",
      "step = 4000 loss value = 0.20049433835862615\n",
      "step = 4400 loss value = 0.16753304096747534\n",
      "step = 4800 loss value = 0.14274034829714471\n",
      "step = 5200 loss value = 0.12360238174033597\n",
      "step = 5600 loss value = 0.10849280736052523\n",
      "step = 6000 loss value = 0.09632856982540801\n",
      "step = 6400 loss value = 0.08636829305262914\n",
      "step = 6800 loss value = 0.07809147676688576\n",
      "step = 7200 loss value = 0.07112420272482123\n",
      "step = 7600 loss value = 0.06519223452972465\n",
      "step = 8000 loss value = 0.060090659608437146\n",
      "step = 8400 loss value = 0.055663772440678716\n",
      "step = 8800 loss value = 0.051791451567506114\n",
      "step = 9200 loss value = 0.04837974790422635\n",
      "step = 9600 loss value = 0.04535426202815398\n",
      "step = 10000 loss value = 0.04265540475846684\n"
     ]
    }
   ],
   "source": [
    "xdata = np.array([[0, 0], [0, 1], [1, 0], [1, 1]])\n",
    "tdata = np.array([0, 1, 1, 1])\n",
    "\n",
    "or_obj = LogicGate(\"OR\", xdata, tdata)\n",
    "or_obj.train()"
   ]
  },
  {
   "cell_type": "code",
   "execution_count": 8,
   "metadata": {
    "scrolled": true
   },
   "outputs": [
    {
     "name": "stdout",
     "output_type": "stream",
     "text": [
      "(array([0.02457307]), 0)\n",
      "(array([0.99130785]), 1)\n",
      "(array([0.99189247]), 1)\n",
      "(array([0.99909536]), 1)\n"
     ]
    }
   ],
   "source": [
    "test_data = np.array([[0, 0], [0, 1], [1, 0], [1, 1]])\n",
    "\n",
    "for data in test_data:\n",
    "    print(or_obj.predict(data))"
   ]
  },
  {
   "cell_type": "markdown",
   "metadata": {},
   "source": [
    "### NAND Gate"
   ]
  },
  {
   "cell_type": "code",
   "execution_count": 9,
   "metadata": {},
   "outputs": [
    {
     "name": "stdout",
     "output_type": "stream",
     "text": [
      "NAND object is created\n",
      "Initial loss value = 3.5750971666806883\n",
      "step = 0 loss value = 3.5381321440272506\n",
      "step = 400 loss value = 2.298792177493607\n",
      "step = 800 loss value = 2.1512553343993273\n",
      "step = 1200 loss value = 1.8845541058120407\n",
      "step = 1600 loss value = 1.4936929634354783\n",
      "step = 2000 loss value = 1.1177565866056696\n",
      "step = 2400 loss value = 0.8305257067637843\n",
      "step = 2800 loss value = 0.6202409052995675\n",
      "step = 3200 loss value = 0.4693793991425308\n",
      "step = 3600 loss value = 0.36252112487439336\n",
      "step = 4000 loss value = 0.28662384278537234\n",
      "step = 4400 loss value = 0.23192376834449407\n",
      "step = 4800 loss value = 0.19168447692397375\n",
      "step = 5200 loss value = 0.16141872448179934\n",
      "step = 5600 loss value = 0.1381563441090431\n",
      "step = 6000 loss value = 0.11991378489247193\n",
      "step = 6400 loss value = 0.1053448418471425\n",
      "step = 6800 loss value = 0.09351830422806687\n",
      "step = 7200 loss value = 0.08377721674772497\n",
      "step = 7600 loss value = 0.07564912102141291\n",
      "step = 8000 loss value = 0.06878800746627195\n",
      "step = 8400 loss value = 0.06293614129274039\n",
      "step = 8800 loss value = 0.057898510674023504\n",
      "step = 9200 loss value = 0.05352541956417681\n",
      "step = 9600 loss value = 0.04970042508887104\n",
      "step = 10000 loss value = 0.04633184174108311\n"
     ]
    }
   ],
   "source": [
    "xdata = np.array([[0, 0], [0, 1], [1, 0], [1, 1]])\n",
    "tdata = np.array([1, 1, 1, 0])\n",
    "\n",
    "nand_obj = LogicGate(\"NAND\", xdata, tdata)\n",
    "nand_obj.train()"
   ]
  },
  {
   "cell_type": "code",
   "execution_count": 10,
   "metadata": {
    "scrolled": true
   },
   "outputs": [
    {
     "name": "stdout",
     "output_type": "stream",
     "text": [
      "(array([0.99997636]), 1)\n",
      "(array([0.98944664]), 1)\n",
      "(array([0.98870416]), 1)\n",
      "(array([0.02404524]), 0)\n"
     ]
    }
   ],
   "source": [
    "test_data = np.array([[0, 0], [0, 1], [1, 0], [1, 1]])\n",
    "\n",
    "for data in test_data:\n",
    "    print(nand_obj.predict(data))"
   ]
  },
  {
   "cell_type": "markdown",
   "metadata": {},
   "source": [
    "### XOR Gate"
   ]
  },
  {
   "cell_type": "code",
   "execution_count": 11,
   "metadata": {},
   "outputs": [
    {
     "name": "stdout",
     "output_type": "stream",
     "text": [
      "XOR object is created\n",
      "Initial loss value = 5.47693541648629\n",
      "step = 0 loss value = 5.360099640414162\n",
      "step = 400 loss value = 2.758455834302638\n",
      "step = 800 loss value = 2.752811482316535\n",
      "step = 1200 loss value = 2.744707453322649\n",
      "step = 1600 loss value = 2.7329887454099198\n",
      "step = 2000 loss value = 2.7160107755342033\n",
      "step = 2400 loss value = 2.691489930430089\n",
      "step = 2800 loss value = 2.656422158101111\n",
      "step = 3200 loss value = 2.607376705300094\n",
      "step = 3600 loss value = 2.541709430526528\n",
      "step = 4000 loss value = 2.459650264732777\n",
      "step = 4400 loss value = 2.3653411933322164\n",
      "step = 4800 loss value = 2.264848271840707\n",
      "step = 5200 loss value = 2.1627646971897945\n",
      "step = 5600 loss value = 2.0603349664325727\n",
      "step = 6000 loss value = 1.955506791874875\n",
      "step = 6400 loss value = 1.8439273529699736\n",
      "step = 6800 loss value = 1.7204902139028375\n",
      "step = 7200 loss value = 1.5817170157530995\n",
      "step = 7600 loss value = 1.4287083770519016\n",
      "step = 8000 loss value = 1.2680430052670464\n",
      "step = 8400 loss value = 1.1088738535176963\n",
      "step = 8800 loss value = 0.9593731629088997\n",
      "step = 9200 loss value = 0.8249539047338743\n",
      "step = 9600 loss value = 0.70801382729447\n",
      "step = 10000 loss value = 0.6085851720387585\n"
     ]
    }
   ],
   "source": [
    "xdata = np.array([[0, 0], [0, 1], [1, 0], [1, 1]])\n",
    "tdata = np.array([0, 1, 1, 0])\n",
    "\n",
    "xor_obj = LogicGate(\"XOR\", xdata, tdata)\n",
    "xor_obj.train()"
   ]
  },
  {
   "cell_type": "code",
   "execution_count": 12,
   "metadata": {},
   "outputs": [
    {
     "name": "stdout",
     "output_type": "stream",
     "text": [
      "(array([0.10390617]), 0)\n",
      "(array([0.85472717]), 1)\n",
      "(array([0.87032209]), 1)\n",
      "(array([0.18373043]), 0)\n"
     ]
    }
   ],
   "source": [
    "test_data = np.array([[0, 0], [0, 1], [1, 0], [1, 1]])\n",
    "\n",
    "for data in test_data:\n",
    "    print(xor_obj.predict(data))"
   ]
  }
 ],
 "metadata": {
  "kernelspec": {
   "display_name": "Python 3",
   "language": "python",
   "name": "python3"
  },
  "language_info": {
   "codemirror_mode": {
    "name": "ipython",
    "version": 3
   },
   "file_extension": ".py",
   "mimetype": "text/x-python",
   "name": "python",
   "nbconvert_exporter": "python",
   "pygments_lexer": "ipython3",
   "version": "3.7.0"
  }
 },
 "nbformat": 4,
 "nbformat_minor": 2
}

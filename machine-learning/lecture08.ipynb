{
 "cells": [
  {
   "cell_type": "markdown",
   "metadata": {},
   "source": [
    "# Machine Learning\n",
    "\n",
    "## Linear Regression"
   ]
  },
  {
   "cell_type": "markdown",
   "metadata": {},
   "source": [
    "### Loss Function\n",
    "\n",
    "\\begin{equation*}\n",
    "y = Wx + b\n",
    "\\end{equation*}\n",
    "\n",
    "\\begin{equation*}\n",
    "E(W, b) = \\frac{1}{n} \\sum_{i=1}^n [t_i - y_i]^2 = \\frac{1}{n} \\sum_{i=1}^n [t_i - (Wx_i + b)]^2\n",
    "\\end{equation*}"
   ]
  },
  {
   "cell_type": "code",
   "execution_count": 1,
   "metadata": {},
   "outputs": [],
   "source": [
    "def loss_func(x, t):\n",
    "    y = np.dot(x, W) + b\n",
    "    return ( np.sum( ( t - y )**2 ) ) / ( len(x) )"
   ]
  },
  {
   "cell_type": "markdown",
   "metadata": {},
   "source": [
    "### Gradient Descent Algorithm\n",
    "\n",
    "\\begin{equation*}\n",
    "W = W - \\alpha\\frac{\\partial E(W, b)}{\\partial W}\n",
    "\\end{equation*}\n",
    "\n",
    "\\begin{equation*}\n",
    "b = b - \\alpha\\frac{\\partial E(W, b)}{\\partial b}\n",
    "\\end{equation*}"
   ]
  },
  {
   "cell_type": "markdown",
   "metadata": {},
   "source": [
    "### Numerical Derivative"
   ]
  },
  {
   "cell_type": "code",
   "execution_count": 2,
   "metadata": {},
   "outputs": [],
   "source": [
    "def numerical_derivative(f, x):\n",
    "    delta_x = 1e-4\n",
    "    grad = np.zeros_like(x)\n",
    "    \n",
    "    it = np.nditer(x, flags=['multi_index'], op_flags=['readwrite'])\n",
    "    \n",
    "    while not it.finished:\n",
    "        idx = it.multi_index\n",
    "        \n",
    "        tmp_val = x[idx]\n",
    "        x[idx] = float(tmp_val) + delta_x\n",
    "        fx1 = f(x)\n",
    "        \n",
    "        x[idx] = float(tmp_val) - delta_x\n",
    "        fx2 = f(x)\n",
    "        \n",
    "        grad[idx] = (fx1 - fx2) / (2 * delta_x)\n",
    "        \n",
    "        x[idx] = tmp_val\n",
    "        it.iternext()\n",
    "    \n",
    "    return grad"
   ]
  },
  {
   "cell_type": "markdown",
   "metadata": {},
   "source": [
    "### Error Function"
   ]
  },
  {
   "cell_type": "code",
   "execution_count": 3,
   "metadata": {},
   "outputs": [],
   "source": [
    "def error_val(x, t):\n",
    "    y = np.dot(x, W) + b\n",
    "    return ( np.sum( ( t - y ) ** 2) ) / ( len(x) )"
   ]
  },
  {
   "cell_type": "markdown",
   "metadata": {},
   "source": [
    "### Predict Function"
   ]
  },
  {
   "cell_type": "code",
   "execution_count": 4,
   "metadata": {},
   "outputs": [],
   "source": [
    "def predict(x):\n",
    "    y = np.dot(x, W) + b\n",
    "    return y"
   ]
  },
  {
   "cell_type": "markdown",
   "metadata": {},
   "source": [
    "### Simple Linear Regression"
   ]
  },
  {
   "cell_type": "code",
   "execution_count": 5,
   "metadata": {},
   "outputs": [],
   "source": [
    "import numpy as np\n",
    "\n",
    "x_data = np.array([1, 2, 3, 4, 5]).reshape(5, 1)\n",
    "t_data = np.array([2, 3, 4, 5, 6]).reshape(5, 1)"
   ]
  },
  {
   "cell_type": "code",
   "execution_count": 6,
   "metadata": {},
   "outputs": [
    {
     "name": "stdout",
     "output_type": "stream",
     "text": [
      "W = [[0.83689307]] , W.shape = (1, 1) , b = [0.33346257] , b.shape = (1,)\n"
     ]
    }
   ],
   "source": [
    "W = np.random.rand(1, 1)\n",
    "b = np.random.rand(1)\n",
    "print(\"W =\", W, \", W.shape =\", W.shape, \", b =\", b, \", b.shape =\", b.shape)"
   ]
  },
  {
   "cell_type": "code",
   "execution_count": 7,
   "metadata": {
    "scrolled": false
   },
   "outputs": [
    {
     "name": "stdout",
     "output_type": "stream",
     "text": [
      "Initial error value = 1.3892159559201667 Initial W = [[0.83689307]] \n",
      " , b = [0.33346257]\n",
      "step = 0 error value = 0.8427113051808366 W = [[0.91276884]] , b = [0.35202718]\n",
      "step = 400 error value = 0.004092165946269949 W = [[1.04154066]] , b = [0.85006176]\n",
      "step = 800 error value = 0.0002611043801458947 W = [[1.0104931]] , b = [0.96212585]\n",
      "step = 1200 error value = 1.6660003095316053e-05 W = [[1.00265054]] , b = [0.99043305]\n",
      "step = 1600 error value = 1.0630066909669948e-06 W = [[1.00066952]] , b = [0.99758341]\n",
      "step = 2000 error value = 6.782611135032525e-08 W = [[1.00016912]] , b = [0.99938957]\n",
      "step = 2400 error value = 4.327706890285327e-09 W = [[1.00004272]] , b = [0.99984581]\n",
      "step = 2800 error value = 2.76133284896043e-10 W = [[1.00001079]] , b = [0.99996105]\n",
      "step = 3200 error value = 1.7618936068069968e-11 W = [[1.00000273]] , b = [0.99999016]\n",
      "step = 3600 error value = 1.1241922842263134e-12 W = [[1.00000069]] , b = [0.99999751]\n",
      "step = 4000 error value = 7.173011373425306e-14 W = [[1.00000017]] , b = [0.99999937]\n",
      "step = 4400 error value = 4.5768053540026656e-15 W = [[1.00000004]] , b = [0.99999984]\n",
      "step = 4800 error value = 2.9202723919810074e-16 W = [[1.00000001]] , b = [0.99999996]\n",
      "step = 5200 error value = 1.8633064482311045e-17 W = [[1.]] , b = [0.99999999]\n",
      "step = 5600 error value = 1.1889001567721878e-18 W = [[1.]] , b = [1.]\n",
      "step = 6000 error value = 7.585871885300004e-20 W = [[1.]] , b = [1.]\n",
      "step = 6400 error value = 4.840232593031011e-21 W = [[1.]] , b = [1.]\n",
      "step = 6800 error value = 3.0884366302671477e-22 W = [[1.]] , b = [1.]\n",
      "step = 7200 error value = 1.9706600103768636e-23 W = [[1.]] , b = [1.]\n",
      "step = 7600 error value = 1.259425714161743e-24 W = [[1.]] , b = [1.]\n",
      "step = 8000 error value = 8.070536154172188e-26 W = [[1.]] , b = [1.]\n"
     ]
    }
   ],
   "source": [
    "learning_rate = 1e-2\n",
    "\n",
    "f = lambda x : loss_func(x_data, t_data)\n",
    "\n",
    "print(\"Initial error value =\", error_val(x_data, t_data), \"Initial W =\", W, \"\\n\", \", b =\", b)\n",
    "\n",
    "for step in range(8001):\n",
    "    W -= learning_rate * numerical_derivative(f, W)\n",
    "    \n",
    "    b -= learning_rate * numerical_derivative(f, b)\n",
    "    \n",
    "    if step % 400 == 0:\n",
    "        print(\"step =\", step, \"error value =\", error_val(x_data, t_data), \"W =\", W, \", b =\", b)"
   ]
  },
  {
   "cell_type": "code",
   "execution_count": 8,
   "metadata": {
    "scrolled": true
   },
   "outputs": [
    {
     "data": {
      "text/plain": [
       "array([[44.]])"
      ]
     },
     "execution_count": 8,
     "metadata": {},
     "output_type": "execute_result"
    }
   ],
   "source": [
    "predict(43)"
   ]
  },
  {
   "cell_type": "markdown",
   "metadata": {},
   "source": [
    "### Multi-variable Linear Regression"
   ]
  },
  {
   "cell_type": "code",
   "execution_count": 9,
   "metadata": {},
   "outputs": [],
   "source": [
    "import numpy as np\n",
    "\n",
    "loaded_data = np.loadtxt('./data-01-test-score.csv', delimiter=',', dtype=np.float32)\n",
    "x_data = loaded_data[:, 0:-1]\n",
    "t_data = loaded_data[:, [-1]]"
   ]
  },
  {
   "cell_type": "code",
   "execution_count": 10,
   "metadata": {},
   "outputs": [
    {
     "name": "stdout",
     "output_type": "stream",
     "text": [
      "W = [[0.22349686]\n",
      " [0.86245749]\n",
      " [0.43990055]] , W.shape = (3, 1) , b = [0.32764739] , b.shape = (1,)\n"
     ]
    }
   ],
   "source": [
    "W = np.random.rand(3, 1)\n",
    "b = np.random.rand(1)\n",
    "print(\"W =\", W, \", W.shape =\", W.shape, \", b =\", b, \", b.shape =\", b.shape)"
   ]
  },
  {
   "cell_type": "code",
   "execution_count": 11,
   "metadata": {
    "scrolled": false
   },
   "outputs": [
    {
     "name": "stdout",
     "output_type": "stream",
     "text": [
      "Initial error value = 1623.5319631218379 Initial W = [[0.22349686]\n",
      " [0.86245749]\n",
      " [0.43990055]] \n",
      " , b = [0.32764739]\n",
      "step = 0 error value = 611.3584476547973 W = [[0.28751997]\n",
      " [0.92662537]\n",
      " [0.50602067]] , b = [0.32812955]\n",
      "step = 400 error value = 14.163726368893876 W = [[0.38190283]\n",
      " [0.94549281]\n",
      " [0.69225074]] , b = [0.3287123]\n",
      "step = 800 error value = 11.76735343376831 W = [[0.37774101]\n",
      " [0.8776717 ]\n",
      " [0.76257387]] , b = [0.3284564]\n",
      "step = 1200 error value = 10.088208709950937 W = [[0.37425151]\n",
      " [0.82090405]\n",
      " [0.82144296]] , b = [0.32812504]\n",
      "step = 1600 error value = 8.911616028632453 W = [[0.37132535]\n",
      " [0.77338864]\n",
      " [0.87072396]] , b = [0.32773053]\n",
      "step = 2000 error value = 8.087154731627766 W = [[0.36887124]\n",
      " [0.73361774]\n",
      " [0.91197884]] , b = [0.32728316]\n",
      "step = 2400 error value = 7.50942711782438 W = [[0.36681271]\n",
      " [0.7003293 ]\n",
      " [0.94651509]] , b = [0.32679158]\n",
      "step = 2800 error value = 7.104582456296623 W = [[0.36508572]\n",
      " [0.67246691]\n",
      " [0.9754272 ]] , b = [0.32626299]\n",
      "step = 3200 error value = 6.820874546806845 W = [[0.36363662]\n",
      " [0.64914632]\n",
      " [0.99963132]] , b = [0.32570345]\n",
      "step = 3600 error value = 6.62204553169946 W = [[0.36242047]\n",
      " [0.62962735]\n",
      " [1.0198944 ]] , b = [0.32511801]\n",
      "step = 4000 error value = 6.482690023434158 W = [[0.3613996 ]\n",
      " [0.61329046]\n",
      " [1.0368584 ]] , b = [0.32451091]\n",
      "step = 4400 error value = 6.385006812162889 W = [[0.36054247]\n",
      " [0.59961702]\n",
      " [1.05106072]] , b = [0.3238857]\n",
      "step = 4800 error value = 6.316522831646908 W = [[0.35982266]\n",
      " [0.58817297]\n",
      " [1.0629512 ]] , b = [0.32324533]\n",
      "step = 5200 error value = 6.2684983732800985 W = [[0.359218  ]\n",
      " [0.57859495]\n",
      " [1.07290643]] , b = [0.32259231]\n",
      "step = 5600 error value = 6.234809641340097 W = [[0.35870995]\n",
      " [0.57057882]\n",
      " [1.0812416 ]] , b = [0.3219287]\n",
      "step = 6000 error value = 6.211165774706587 W = [[0.35828294]\n",
      " [0.56387001]\n",
      " [1.0882206 ]] , b = [0.32125625]\n",
      "step = 6400 error value = 6.194560224658402 W = [[0.35792393]\n",
      " [0.55825542]\n",
      " [1.09406432]] , b = [0.32057642]\n",
      "step = 6800 error value = 6.182886342772581 W = [[0.35762199]\n",
      " [0.55355669]\n",
      " [1.09895765]] , b = [0.31989042]\n",
      "step = 7200 error value = 6.174668028598304 W = [[0.35736797]\n",
      " [0.54962454]\n",
      " [1.10305538]] , b = [0.31919929]\n",
      "step = 7600 error value = 6.168870998144348 W = [[0.35715416]\n",
      " [0.546334  ]\n",
      " [1.10648708]] , b = [0.31850386]\n",
      "step = 8000 error value = 6.16477054227052 W = [[0.35697414]\n",
      " [0.54358047]\n",
      " [1.10936123]] , b = [0.31780486]\n",
      "step = 8400 error value = 6.16185886678494 W = [[0.3568225]\n",
      " [0.5412764]\n",
      " [1.1117686]] , b = [0.3171029]\n",
      "step = 8800 error value = 6.159780166903403 W = [[0.3566947 ]\n",
      " [0.53934852]\n",
      " [1.11378523]] , b = [0.31639846]\n",
      "step = 9200 error value = 6.158285134799424 W = [[0.35658695]\n",
      " [0.53773549]\n",
      " [1.11547472]] , b = [0.31569197]\n",
      "step = 9600 error value = 6.157199083656893 W = [[0.35649604]\n",
      " [0.53638598]\n",
      " [1.11689036]] , b = [0.31498379]\n",
      "step = 10000 error value = 6.156399612621201 W = [[0.35641931]\n",
      " [0.535257  ]\n",
      " [1.11807672]] , b = [0.3142742]\n"
     ]
    }
   ],
   "source": [
    "learning_rate = 1e-5\n",
    "\n",
    "f = lambda x : loss_func(x_data, t_data)\n",
    "\n",
    "print(\"Initial error value =\", error_val(x_data, t_data), \"Initial W =\", W, \"\\n\", \", b =\", b)\n",
    "\n",
    "for step in range(10001):\n",
    "    W -= learning_rate * numerical_derivative(f, W)\n",
    "    \n",
    "    b -= learning_rate * numerical_derivative(f, b)\n",
    "    \n",
    "    if step % 400 == 0:\n",
    "        print(\"step =\", step, \"error value =\", error_val(x_data, t_data), \"W =\", W, \", b =\", b)"
   ]
  },
  {
   "cell_type": "code",
   "execution_count": 12,
   "metadata": {
    "scrolled": true
   },
   "outputs": [
    {
     "data": {
      "text/plain": [
       "array([178.97560542])"
      ]
     },
     "execution_count": 12,
     "metadata": {},
     "output_type": "execute_result"
    }
   ],
   "source": [
    "test_data = np.array([100, 98, 81])\n",
    "predict(test_data)"
   ]
  }
 ],
 "metadata": {
  "kernelspec": {
   "display_name": "Python 3",
   "language": "python",
   "name": "python3"
  },
  "language_info": {
   "codemirror_mode": {
    "name": "ipython",
    "version": 3
   },
   "file_extension": ".py",
   "mimetype": "text/x-python",
   "name": "python",
   "nbconvert_exporter": "python",
   "pygments_lexer": "ipython3",
   "version": "3.7.0"
  }
 },
 "nbformat": 4,
 "nbformat_minor": 2
}

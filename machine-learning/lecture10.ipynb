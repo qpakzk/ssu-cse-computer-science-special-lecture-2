{
 "cells": [
  {
   "cell_type": "markdown",
   "metadata": {},
   "source": [
    "# Machine Learning\n",
    "## XOR Problem"
   ]
  },
  {
   "cell_type": "code",
   "execution_count": 1,
   "metadata": {},
   "outputs": [],
   "source": [
    "import numpy as np"
   ]
  },
  {
   "cell_type": "code",
   "execution_count": 2,
   "metadata": {},
   "outputs": [],
   "source": [
    "def sigmoid(x):\n",
    "    return ( 1 / ( 1 + np.exp(-x) ) )"
   ]
  },
  {
   "cell_type": "code",
   "execution_count": 3,
   "metadata": {},
   "outputs": [],
   "source": [
    "def numerical_derivative(f, x):\n",
    "    delta_x = 1e-4\n",
    "    grad = np.zeros_like(x)\n",
    "    \n",
    "    it = np.nditer(x, flags=['multi_index'], op_flags=['readwrite'])\n",
    "    while not it.finished:\n",
    "        idx = it.multi_index\n",
    "        tmp_val = x[idx]\n",
    "        \n",
    "        x[idx] = tmp_val + delta_x\n",
    "        fx1 = f(x)\n",
    "        \n",
    "        x[idx] = tmp_val - delta_x\n",
    "        fx2 = f(x)\n",
    "        \n",
    "        grad[idx] = (fx1 - fx2) / (2 * delta_x)\n",
    "        \n",
    "        it.iternext()\n",
    "        x[idx] = tmp_val\n",
    "        \n",
    "    return grad"
   ]
  },
  {
   "cell_type": "code",
   "execution_count": 4,
   "metadata": {},
   "outputs": [],
   "source": [
    "class LogicGate:\n",
    "    def __init__(self, gate_name, xdata, tdata):\n",
    "        self.name = gate_name\n",
    "        \n",
    "        self.__xdata = xdata.reshape(4, 2)\n",
    "        self.__tdata = tdata.reshape(4, 1)\n",
    "        \n",
    "        self.__W = np.random.rand(2, 1)\n",
    "        self.__b = np.random.rand(1)\n",
    "        \n",
    "        self.__learning_rate = 1e-2\n",
    "    \n",
    "    def __loss_func(self):\n",
    "        delta = 1e-7\n",
    "        \n",
    "        z = np.dot(self.__xdata, self.__W) + self.__b\n",
    "        y = sigmoid(z)\n",
    "        \n",
    "        return -np.sum(self.__tdata * np.log(y + delta) + (1 - self.__tdata) * np.log((1 - y) + delta))\n",
    "    \n",
    "    def error_val(self):\n",
    "        delta = 1e-7\n",
    "        \n",
    "        z = np.dot(self.__xdata, self.__W) + self.__b\n",
    "        y = sigmoid(z)\n",
    "        \n",
    "        return -np.sum(self.__tdata * np.log(y + delta) + (1 - self.__tdata) * np.log((1 - y) + delta))\n",
    "    \n",
    "    def train(self):\n",
    "        f = lambda x : self.__loss_func()\n",
    "        \n",
    "        print(\"Initial error value =\", self.error_val())\n",
    "        for step in range(8001):\n",
    "            self.__W -= self.__learning_rate * numerical_derivative(f, self.__W)\n",
    "            self.__b -= self.__learning_rate * numerical_derivative(f, self.__b)\n",
    "            \n",
    "            if step % 400 == 0:\n",
    "                print(\"step =\", step, \"error value =\", self.error_val())\n",
    "    \n",
    "    def predict(self, input_data):\n",
    "        z = np.dot(input_data, self.__W) + self.__b\n",
    "        y = sigmoid(z)\n",
    "        \n",
    "        if y > 0.5:\n",
    "            result = 1\n",
    "        else:\n",
    "            result = 0\n",
    "            \n",
    "        return y, result"
   ]
  },
  {
   "cell_type": "markdown",
   "metadata": {},
   "source": [
    "### AND Gate"
   ]
  },
  {
   "cell_type": "code",
   "execution_count": 5,
   "metadata": {},
   "outputs": [
    {
     "name": "stdout",
     "output_type": "stream",
     "text": [
      "Initial error value = 4.0031818174507166\n",
      "step = 0 error value = 3.956538653273316\n",
      "step = 400 error value = 1.5297895436239486\n",
      "step = 800 error value = 1.1390363320590793\n",
      "step = 1200 error value = 0.9165260413676024\n",
      "step = 1600 error value = 0.7693976763947521\n",
      "step = 2000 error value = 0.6635520831333672\n",
      "step = 2400 error value = 0.5832559649871795\n",
      "step = 2800 error value = 0.5200737287759403\n",
      "step = 3200 error value = 0.4689990891879936\n",
      "step = 3600 error value = 0.426839928464161\n",
      "step = 4000 error value = 0.391450256306364\n",
      "step = 4400 error value = 0.3613276422842528\n",
      "step = 4800 error value = 0.335385867391289\n",
      "step = 5200 error value = 0.31281879911772204\n",
      "step = 5600 error value = 0.2930149799981464\n",
      "step = 6000 error value = 0.2755019469090405\n",
      "step = 6400 error value = 0.25990875855516665\n",
      "step = 6800 error value = 0.2459400889561317\n",
      "step = 7200 error value = 0.23335789860633593\n",
      "step = 7600 error value = 0.2219682039182289\n",
      "step = 8000 error value = 0.2116113568725796\n"
     ]
    }
   ],
   "source": [
    "xdata = np.array([[0, 0], [0, 1], [1, 0], [1, 1]])\n",
    "tdata = np.array([0, 0, 0, 1])\n",
    "\n",
    "AND_obj = LogicGate(\"AND_GATE\", xdata, tdata)\n",
    "AND_obj.train()"
   ]
  },
  {
   "cell_type": "code",
   "execution_count": 6,
   "metadata": {
    "scrolled": true
   },
   "outputs": [
    {
     "name": "stdout",
     "output_type": "stream",
     "text": [
      "AND_GATE \n",
      "\n",
      "[0 0] = 0 \n",
      "\n",
      "[0 1] = 0 \n",
      "\n",
      "[1 0] = 0 \n",
      "\n",
      "[1 1] = 1 \n",
      "\n"
     ]
    }
   ],
   "source": [
    "test_data = np.array([[0, 0], [0, 1], [1, 0], [1,1]])\n",
    "\n",
    "print(AND_obj.name, \"\\n\")\n",
    "\n",
    "for input_data in test_data:\n",
    "    sigmoid_val, logical_val = AND_obj.predict(input_data)\n",
    "    print(input_data, \"=\", logical_val, \"\\n\")"
   ]
  },
  {
   "cell_type": "markdown",
   "metadata": {},
   "source": [
    "### OR Gate"
   ]
  },
  {
   "cell_type": "code",
   "execution_count": 7,
   "metadata": {},
   "outputs": [
    {
     "name": "stdout",
     "output_type": "stream",
     "text": [
      "Initial error value = 1.7377921743916471\n",
      "step = 0 error value = 1.7343151373320322\n",
      "step = 400 error value = 1.0903694792588403\n",
      "step = 800 error value = 0.7932869584960733\n",
      "step = 1200 error value = 0.6177427435455424\n",
      "step = 1600 error value = 0.5028755556399428\n",
      "step = 2000 error value = 0.42235697035123504\n",
      "step = 2400 error value = 0.36306368478542095\n",
      "step = 2800 error value = 0.31774359711636535\n",
      "step = 3200 error value = 0.28207592362682316\n",
      "step = 3600 error value = 0.2533343904789063\n",
      "step = 4000 error value = 0.22971882366216595\n",
      "step = 4400 error value = 0.20999564748857177\n",
      "step = 4800 error value = 0.19329299024778424\n",
      "step = 5200 error value = 0.17897823723942355\n",
      "step = 5600 error value = 0.1665818933714727\n",
      "step = 6000 error value = 0.15574861303215698\n",
      "step = 6400 error value = 0.14620476953152722\n",
      "step = 6800 error value = 0.1377364222100756\n",
      "step = 7200 error value = 0.1301740062852761\n",
      "step = 7600 error value = 0.12338147864039693\n",
      "step = 8000 error value = 0.11724848316430991\n"
     ]
    }
   ],
   "source": [
    "xdata = np.array([[0, 0], [0, 1], [1, 0], [1, 1]])\n",
    "tdata = np.array([0, 1, 1, 1])\n",
    "\n",
    "OR_obj = LogicGate(\"OR_GATE\", xdata, tdata)\n",
    "OR_obj.train()"
   ]
  },
  {
   "cell_type": "code",
   "execution_count": 8,
   "metadata": {
    "scrolled": true
   },
   "outputs": [
    {
     "name": "stdout",
     "output_type": "stream",
     "text": [
      "OR_GATE \n",
      "\n",
      "[0 0] = 0 \n",
      "\n",
      "[0 1] = 1 \n",
      "\n",
      "[1 0] = 1 \n",
      "\n",
      "[1 1] = 1 \n",
      "\n"
     ]
    }
   ],
   "source": [
    "test_data = np.array([[0, 0], [0, 1], [1, 0], [1,1]])\n",
    "\n",
    "print(OR_obj.name, \"\\n\")\n",
    "\n",
    "for input_data in test_data:\n",
    "    sigmoid_val, logical_val = OR_obj.predict(input_data)\n",
    "    print(input_data, \"=\", logical_val, \"\\n\")"
   ]
  },
  {
   "cell_type": "markdown",
   "metadata": {},
   "source": [
    "### NOR Gate"
   ]
  },
  {
   "cell_type": "code",
   "execution_count": 9,
   "metadata": {},
   "outputs": [
    {
     "name": "stdout",
     "output_type": "stream",
     "text": [
      "Initial error value = 4.864091484550285\n",
      "step = 0 error value = 4.78093416777813\n",
      "step = 400 error value = 1.2459921235802363\n",
      "step = 800 error value = 0.8769522663899477\n",
      "step = 1200 error value = 0.6691887942918029\n",
      "step = 1600 error value = 0.5374431147665782\n",
      "step = 2000 error value = 0.44704401596946286\n",
      "step = 2400 error value = 0.38149782640665586\n",
      "step = 2800 error value = 0.3319868334893527\n",
      "step = 3200 error value = 0.2933831901025116\n",
      "step = 3600 error value = 0.2625108733108456\n",
      "step = 4000 error value = 0.23730346700114055\n",
      "step = 4400 error value = 0.21636195859512072\n",
      "step = 4800 error value = 0.1987074901032247\n",
      "step = 5200 error value = 0.18363589725510934\n",
      "step = 5600 error value = 0.17062844122720336\n",
      "step = 6000 error value = 0.15929503171075618\n",
      "step = 6400 error value = 0.14933698827029854\n",
      "step = 6800 error value = 0.1405219541025464\n",
      "step = 7200 error value = 0.13266659398707165\n",
      "step = 7600 error value = 0.12562440927252275\n",
      "step = 8000 error value = 0.11927699495388301\n"
     ]
    }
   ],
   "source": [
    "xdata = np.array([[0, 0], [0, 1], [1, 0], [1, 1]])\n",
    "tdata = np.array([1, 0, 0, 0])\n",
    "\n",
    "NOR_obj = LogicGate(\"NOR_GATE\", xdata, tdata)\n",
    "NOR_obj.train()"
   ]
  },
  {
   "cell_type": "code",
   "execution_count": 10,
   "metadata": {
    "scrolled": true
   },
   "outputs": [
    {
     "name": "stdout",
     "output_type": "stream",
     "text": [
      "NOR_GATE \n",
      "\n",
      "[0 0] = 1 \n",
      "\n",
      "[0 1] = 0 \n",
      "\n",
      "[1 0] = 0 \n",
      "\n",
      "[1 1] = 0 \n",
      "\n"
     ]
    }
   ],
   "source": [
    "test_data = np.array([[0, 0], [0, 1], [1, 0], [1,1]])\n",
    "\n",
    "print(NOR_obj.name, \"\\n\")\n",
    "\n",
    "for input_data in test_data:\n",
    "    sigmoid_val, logical_val = NOR_obj.predict(input_data)\n",
    "    print(input_data, \"=\", logical_val, \"\\n\")"
   ]
  },
  {
   "cell_type": "markdown",
   "metadata": {},
   "source": [
    "### NAND Gate"
   ]
  },
  {
   "cell_type": "code",
   "execution_count": 11,
   "metadata": {
    "scrolled": false
   },
   "outputs": [
    {
     "name": "stdout",
     "output_type": "stream",
     "text": [
      "Initial error value = 3.0239126828814196\n",
      "step = 0 error value = 3.018289699236564\n",
      "step = 400 error value = 1.7260407550182317\n",
      "step = 800 error value = 1.2344363429193708\n",
      "step = 1200 error value = 0.9745554543095889\n",
      "step = 1600 error value = 0.8091933292896926\n",
      "step = 2000 error value = 0.6928298106716362\n",
      "step = 2400 error value = 0.6058037701821175\n",
      "step = 2800 error value = 0.538009997120058\n",
      "step = 3200 error value = 0.48361894518304377\n",
      "step = 3600 error value = 0.4389873385261115\n",
      "step = 4000 error value = 0.4017020427524347\n",
      "step = 4400 error value = 0.3700928980650819\n",
      "step = 4800 error value = 0.3429634506935654\n",
      "step = 5200 error value = 0.3194324179605913\n",
      "step = 5600 error value = 0.29883554810690544\n",
      "step = 6000 error value = 0.2806623446031666\n",
      "step = 6400 error value = 0.26451387344921157\n",
      "step = 6800 error value = 0.25007382106671305\n",
      "step = 7200 error value = 0.23708815555428173\n",
      "step = 7600 error value = 0.2253505314986604\n",
      "step = 8000 error value = 0.21469162257792956\n"
     ]
    }
   ],
   "source": [
    "xdata = np.array([[0, 0], [0, 1], [1, 0], [1, 1]])\n",
    "tdata = np.array([1, 1, 1, 0])\n",
    "\n",
    "NAND_obj = LogicGate(\"NAND_GATE\", xdata, tdata)\n",
    "NAND_obj.train()"
   ]
  },
  {
   "cell_type": "code",
   "execution_count": 12,
   "metadata": {
    "scrolled": true
   },
   "outputs": [
    {
     "name": "stdout",
     "output_type": "stream",
     "text": [
      "NAND_GATE \n",
      "\n",
      "[0 0] = 1 \n",
      "\n",
      "[0 1] = 1 \n",
      "\n",
      "[1 0] = 1 \n",
      "\n",
      "[1 1] = 0 \n",
      "\n"
     ]
    }
   ],
   "source": [
    "test_data = np.array([[0, 0], [0, 1], [1, 0], [1,1]])\n",
    "\n",
    "print(NAND_obj.name, \"\\n\")\n",
    "\n",
    "for input_data in test_data:\n",
    "    sigmoid_val, logical_val = NAND_obj.predict(input_data)\n",
    "    print(input_data, \"=\", logical_val, \"\\n\")"
   ]
  },
  {
   "cell_type": "markdown",
   "metadata": {},
   "source": [
    "### XOR Gate"
   ]
  },
  {
   "cell_type": "code",
   "execution_count": 13,
   "metadata": {
    "scrolled": false
   },
   "outputs": [
    {
     "name": "stdout",
     "output_type": "stream",
     "text": [
      "Initial error value = 2.849553685010528\n",
      "step = 0 error value = 2.8477071326284307\n",
      "step = 400 error value = 2.7758605320513134\n",
      "step = 800 error value = 2.773220059182322\n",
      "step = 1200 error value = 2.772727138083451\n",
      "step = 1600 error value = 2.77262198439694\n",
      "step = 2000 error value = 2.7725968478505036\n",
      "step = 2400 error value = 2.772590353623774\n",
      "step = 2800 error value = 2.772588598073036\n",
      "step = 3200 error value = 2.772588111993863\n",
      "step = 3600 error value = 2.772587975778422\n",
      "step = 4000 error value = 2.7725879373812163\n",
      "step = 4400 error value = 2.7725879265268483\n",
      "step = 4800 error value = 2.772587923454293\n",
      "step = 5200 error value = 2.772587922583978\n",
      "step = 5600 error value = 2.772587922337381\n",
      "step = 6000 error value = 2.772587922267499\n",
      "step = 6400 error value = 2.772587922247694\n",
      "step = 6800 error value = 2.772587922242081\n",
      "step = 7200 error value = 2.7725879222404903\n",
      "step = 7600 error value = 2.7725879222400396\n",
      "step = 8000 error value = 2.7725879222399126\n"
     ]
    }
   ],
   "source": [
    "xdata = np.array([[0, 0], [0, 1], [1, 0], [1, 1]])\n",
    "tdata = np.array([0, 1, 1, 0])\n",
    "\n",
    "XOR_obj = LogicGate(\"XOR_GATE\", xdata, tdata)\n",
    "XOR_obj.train()"
   ]
  },
  {
   "cell_type": "code",
   "execution_count": 14,
   "metadata": {
    "scrolled": true
   },
   "outputs": [
    {
     "name": "stdout",
     "output_type": "stream",
     "text": [
      "XOR_GATE \n",
      "\n",
      "[0 0] = 0 \n",
      "\n",
      "[0 1] = 0 \n",
      "\n",
      "[1 0] = 0 \n",
      "\n",
      "[1 1] = 1 \n",
      "\n"
     ]
    }
   ],
   "source": [
    "# incorrect result\n",
    "test_data = np.array([[0, 0], [0, 1], [1, 0], [1,1]])\n",
    "\n",
    "print(XOR_obj.name, \"\\n\")\n",
    "\n",
    "for input_data in test_data:\n",
    "    sigmoid_val, logical_val = XOR_obj.predict(input_data)\n",
    "    print(input_data, \"=\", logical_val, \"\\n\")"
   ]
  },
  {
   "cell_type": "code",
   "execution_count": 15,
   "metadata": {},
   "outputs": [
    {
     "name": "stdout",
     "output_type": "stream",
     "text": [
      "[0 0] = 0\n",
      "\n",
      "[0 1] = 1\n",
      "\n",
      "[1 0] = 1\n",
      "\n",
      "[1 1] = 0\n",
      "\n"
     ]
    }
   ],
   "source": [
    "# NAND + OR => AND\n",
    "input_data = np.array([[0, 0], [0, 1], [1, 0], [1,1]])\n",
    "\n",
    "s1 = []\n",
    "s2 = []\n",
    "\n",
    "new_input_data = []\n",
    "final_outer = []\n",
    "\n",
    "for index in range(len(input_data)):\n",
    "    \n",
    "    s1 = NAND_obj.predict(input_data[index])\n",
    "    s2 = OR_obj.predict(input_data[index])\n",
    "    \n",
    "    new_input_data.append(s1[-1])\n",
    "    new_input_data.append(s2[-1])\n",
    "    \n",
    "    sigmoid_val, logical_val = AND_obj.predict(np.array(new_input_data))\n",
    "    \n",
    "    final_outer.append(logical_val)\n",
    "    new_input_data = []\n",
    "\n",
    "for index in range(len(input_data)):\n",
    "    print(input_data[index], \"=\", final_outer[index], end='')\n",
    "    print('\\n')"
   ]
  }
 ],
 "metadata": {
  "kernelspec": {
   "display_name": "Python 3",
   "language": "python",
   "name": "python3"
  },
  "language_info": {
   "codemirror_mode": {
    "name": "ipython",
    "version": 3
   },
   "file_extension": ".py",
   "mimetype": "text/x-python",
   "name": "python",
   "nbconvert_exporter": "python",
   "pygments_lexer": "ipython3",
   "version": "3.7.0"
  }
 },
 "nbformat": 4,
 "nbformat_minor": 2
}

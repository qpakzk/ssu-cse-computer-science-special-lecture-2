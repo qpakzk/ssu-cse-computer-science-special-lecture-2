{
 "cells": [
  {
   "cell_type": "markdown",
   "metadata": {},
   "source": [
    "# Numerical Derivative\n",
    "## Partial Derivative"
   ]
  },
  {
   "cell_type": "code",
   "execution_count": 1,
   "metadata": {},
   "outputs": [],
   "source": [
    "import numpy as np\n",
    "\n",
    "def numerical_derivative(f, x):\n",
    "    delta_x = 1e-4\n",
    "    grad = np.zeros_like(x)\n",
    "    print(\"debug 1. initial input variable ==\", x)\n",
    "    print(\"debug 2. initial grad ==\", grad)\n",
    "    print(\"=========================================================\")\n",
    "    \n",
    "    it = np.nditer(x, flags=['multi_index'], op_flags=['readwrite'])\n",
    "    \n",
    "    while not it.finished:\n",
    "        idx = it.multi_index\n",
    "        \n",
    "        print(\"debug 3. idx ==\", idx, \", x[idx] ==\", x[idx])\n",
    "        \n",
    "        tmp_val = x[idx]\n",
    "        x[idx] = float(tmp_val) + delta_x\n",
    "        fx1 = f(x)\n",
    "        \n",
    "        x[idx] = float(tmp_val) - delta_x\n",
    "        fx2 = f(x)\n",
    "        \n",
    "        grad[idx] = (fx1 - fx2) / (2 * delta_x)\n",
    "        \n",
    "        print(\"debug 4. grad[idx] ==\", grad[idx])\n",
    "        print(\"debug 5. grad ==\", grad)\n",
    "        print(\"=========================================================\")\n",
    "        \n",
    "        x[idx] = tmp_val\n",
    "        it.iternext()"
   ]
  },
  {
   "cell_type": "code",
   "execution_count": 2,
   "metadata": {},
   "outputs": [],
   "source": [
    "def func1(input_obj):\n",
    "    x = input_obj[0]\n",
    "    y = input_obj[1]\n",
    "    \n",
    "    return ( 2 * x + 3 * x * y + np.power(y, 3) )"
   ]
  },
  {
   "cell_type": "code",
   "execution_count": 3,
   "metadata": {},
   "outputs": [
    {
     "name": "stdout",
     "output_type": "stream",
     "text": [
      "debug 1. initial input variable == [1. 2.]\n",
      "debug 2. initial grad == [0. 0.]\n",
      "=========================================================\n",
      "debug 3. idx == (0,) , x[idx] == 1.0\n",
      "debug 4. grad[idx] == 7.999999999990237\n",
      "debug 5. grad == [8. 0.]\n",
      "=========================================================\n",
      "debug 3. idx == (1,) , x[idx] == 2.0\n",
      "debug 4. grad[idx] == 15.000000010019221\n",
      "debug 5. grad == [ 8.         15.00000001]\n",
      "=========================================================\n"
     ]
    }
   ],
   "source": [
    "input = np.array([1.0, 2.0])\n",
    "numerical_derivative(func1, input)"
   ]
  }
 ],
 "metadata": {
  "kernelspec": {
   "display_name": "Python 3",
   "language": "python",
   "name": "python3"
  },
  "language_info": {
   "codemirror_mode": {
    "name": "ipython",
    "version": 3
   },
   "file_extension": ".py",
   "mimetype": "text/x-python",
   "name": "python",
   "nbconvert_exporter": "python",
   "pygments_lexer": "ipython3",
   "version": "3.7.0"
  }
 },
 "nbformat": 4,
 "nbformat_minor": 2
}

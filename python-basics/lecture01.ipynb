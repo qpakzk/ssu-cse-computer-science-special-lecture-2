{
 "cells": [
  {
   "cell_type": "markdown",
   "metadata": {},
   "source": [
    "# Python for ML/DL\n",
    "\n",
    "## Data Type\n",
    "\n",
    "* List\n",
    "* Tuple\n",
    "* Dictionary\n",
    "* String"
   ]
  },
  {
   "cell_type": "markdown",
   "metadata": {},
   "source": [
    "### List"
   ]
  },
  {
   "cell_type": "code",
   "execution_count": 1,
   "metadata": {},
   "outputs": [],
   "source": [
    "a = [ 10, 20, 30, 40, 50 ]"
   ]
  },
  {
   "cell_type": "code",
   "execution_count": 2,
   "metadata": {},
   "outputs": [
    {
     "name": "stdout",
     "output_type": "stream",
     "text": [
      "a[0] == 10 , a[1] == 20 , a[2] == 30 , a[3] == 40 , a[4] == 50\n",
      "a[-1] == 50 , a[-2] == 40 , a[-3] == 30 , a[-4] == 20 , a[-5] == 10\n"
     ]
    }
   ],
   "source": [
    "print(\"a[0] ==\", a[0], \", a[1] ==\", a[1], \", a[2] ==\", a[2], \", a[3] ==\", a[3], \", a[4] ==\", a[4])\n",
    "print(\"a[-1] ==\", a[-1], \", a[-2] ==\", a[-2], \", a[-3] ==\", a[-3], \", a[-4] ==\", a[-4], \", a[-5] ==\", a[-5])"
   ]
  },
  {
   "cell_type": "code",
   "execution_count": 3,
   "metadata": {},
   "outputs": [],
   "source": [
    "b = [ 10, 20, \"Hello\", [ True, 3.14 ] ]"
   ]
  },
  {
   "cell_type": "code",
   "execution_count": 4,
   "metadata": {},
   "outputs": [
    {
     "name": "stdout",
     "output_type": "stream",
     "text": [
      "b[0] == 10 , b[1] == 20 , b[2] == Hello , b[3] == [True, 3.14]\n",
      "b[-1] == [True, 3.14] , b[-2] == Hello , b[-3] == 20 , b[-4] == 10\n"
     ]
    }
   ],
   "source": [
    "print(\"b[0] ==\", b[0], \", b[1] ==\", b[1], \", b[2] ==\", b[2], \", b[3] ==\", b[3])\n",
    "print(\"b[-1] ==\", b[-1], \", b[-2] ==\", b[-2], \", b[-3] ==\", b[-3], \", b[-4] ==\", b[-4])"
   ]
  },
  {
   "cell_type": "code",
   "execution_count": 5,
   "metadata": {},
   "outputs": [
    {
     "name": "stdout",
     "output_type": "stream",
     "text": [
      "b[3][0] == True , b[3][1] == 3.14\n",
      "b[-1][-1] == 3.14 , b[-1][-2] == True\n"
     ]
    }
   ],
   "source": [
    "print(\"b[3][0] ==\", b[3][0], \", b[3][1] ==\", b[3][1])\n",
    "print(\"b[-1][-1] ==\", b[-1][-1], \", b[-1][-2] ==\", b[-1][-2])"
   ]
  },
  {
   "cell_type": "code",
   "execution_count": 6,
   "metadata": {},
   "outputs": [],
   "source": [
    "c = []"
   ]
  },
  {
   "cell_type": "code",
   "execution_count": 7,
   "metadata": {},
   "outputs": [
    {
     "name": "stdout",
     "output_type": "stream",
     "text": [
      "[100, 200, 300]\n"
     ]
    }
   ],
   "source": [
    "c.append(100), c.append(200), c.append(300)\n",
    "print(c)"
   ]
  },
  {
   "cell_type": "code",
   "execution_count": 8,
   "metadata": {},
   "outputs": [
    {
     "name": "stdout",
     "output_type": "stream",
     "text": [
      "a[0:2] == [10, 20] , a[1:] = [20, 30, 40, 50]\n",
      "a[:3] == [10, 20, 30] , a[:-2] == [10, 20, 30]\n",
      "a[:] == [10, 20, 30, 40, 50]\n"
     ]
    }
   ],
   "source": [
    "print(\"a[0:2] ==\", a[0:2], \", a[1:] =\", a[1:])\n",
    "print(\"a[:3] ==\", a[:3], \", a[:-2] ==\", a[:-2])\n",
    "print(\"a[:] ==\", a[:])"
   ]
  },
  {
   "cell_type": "markdown",
   "metadata": {},
   "source": [
    "### Tuple"
   ]
  },
  {
   "cell_type": "code",
   "execution_count": 9,
   "metadata": {},
   "outputs": [],
   "source": [
    "a = ( 10, 20, 30, 40, 50 )"
   ]
  },
  {
   "cell_type": "code",
   "execution_count": 10,
   "metadata": {},
   "outputs": [
    {
     "name": "stdout",
     "output_type": "stream",
     "text": [
      "a[0] == 10 , a[-2] == 40 , a[:] == (10, 20, 30, 40, 50)\n",
      "a[0:2] == (10, 20) , a[1:] ==  (20, 30, 40, 50)\n"
     ]
    }
   ],
   "source": [
    "print(\"a[0] ==\", a[0], \", a[-2] ==\", a[-2], \", a[:] ==\", a[:])\n",
    "print(\"a[0:2] ==\", a[0:2], \", a[1:] == \", a[1:])"
   ]
  },
  {
   "cell_type": "code",
   "execution_count": 11,
   "metadata": {
    "scrolled": true
   },
   "outputs": [
    {
     "ename": "TypeError",
     "evalue": "'tuple' object does not support item assignment",
     "output_type": "error",
     "traceback": [
      "\u001b[0;31m---------------------------------------------------------------------------\u001b[0m",
      "\u001b[0;31mTypeError\u001b[0m                                 Traceback (most recent call last)",
      "\u001b[0;32m<ipython-input-11-b6d7a4db9a51>\u001b[0m in \u001b[0;36m<module>\u001b[0;34m()\u001b[0m\n\u001b[0;32m----> 1\u001b[0;31m \u001b[0ma\u001b[0m\u001b[0;34m[\u001b[0m\u001b[0;36m0\u001b[0m\u001b[0;34m]\u001b[0m \u001b[0;34m=\u001b[0m \u001b[0;36m100\u001b[0m\u001b[0;34m\u001b[0m\u001b[0m\n\u001b[0m",
      "\u001b[0;31mTypeError\u001b[0m: 'tuple' object does not support item assignment"
     ]
    }
   ],
   "source": [
    "a[0] = 100"
   ]
  },
  {
   "cell_type": "markdown",
   "metadata": {},
   "source": [
    "### Dictionary"
   ]
  },
  {
   "cell_type": "code",
   "execution_count": 12,
   "metadata": {},
   "outputs": [],
   "source": [
    "score = { \"KIM\": 90, \"LEE\": 85, \"JUN\": 95 }"
   ]
  },
  {
   "cell_type": "code",
   "execution_count": 13,
   "metadata": {},
   "outputs": [
    {
     "name": "stdout",
     "output_type": "stream",
     "text": [
      "score['KIM'] == 90\n"
     ]
    }
   ],
   "source": [
    "print(\"score['KIM'] ==\", score['KIM'])"
   ]
  },
  {
   "cell_type": "code",
   "execution_count": 14,
   "metadata": {},
   "outputs": [
    {
     "name": "stdout",
     "output_type": "stream",
     "text": [
      "{'KIM': 90, 'LEE': 85, 'JUN': 95, 'HAN': 100}\n"
     ]
    }
   ],
   "source": [
    "score['HAN'] = 100\n",
    "print(score)"
   ]
  },
  {
   "cell_type": "code",
   "execution_count": 15,
   "metadata": {},
   "outputs": [
    {
     "name": "stdout",
     "output_type": "stream",
     "text": [
      "score keys == dict_keys(['KIM', 'LEE', 'JUN', 'HAN'])\n",
      "score values == dict_values([90, 85, 95, 100])\n",
      "score items == dict_items([('KIM', 90), ('LEE', 85), ('JUN', 95), ('HAN', 100)])\n"
     ]
    }
   ],
   "source": [
    "print(\"score keys ==\", score.keys())\n",
    "print(\"score values ==\", score.values())\n",
    "print(\"score items ==\", score.items())"
   ]
  },
  {
   "cell_type": "markdown",
   "metadata": {},
   "source": [
    "### String"
   ]
  },
  {
   "cell_type": "code",
   "execution_count": 16,
   "metadata": {},
   "outputs": [],
   "source": [
    "a = 'A73,CD'"
   ]
  },
  {
   "cell_type": "code",
   "execution_count": 17,
   "metadata": {},
   "outputs": [
    {
     "data": {
      "text/plain": [
       "'7'"
      ]
     },
     "execution_count": 17,
     "metadata": {},
     "output_type": "execute_result"
    }
   ],
   "source": [
    "a[1]"
   ]
  },
  {
   "cell_type": "code",
   "execution_count": 18,
   "metadata": {},
   "outputs": [
    {
     "data": {
      "text/plain": [
       "'A73,CD,EFG'"
      ]
     },
     "execution_count": 18,
     "metadata": {},
     "output_type": "execute_result"
    }
   ],
   "source": [
    "a = a + ',EFG'\n",
    "a"
   ]
  },
  {
   "cell_type": "code",
   "execution_count": 19,
   "metadata": {},
   "outputs": [
    {
     "data": {
      "text/plain": [
       "['A73', 'CD', 'EFG']"
      ]
     },
     "execution_count": 19,
     "metadata": {},
     "output_type": "execute_result"
    }
   ],
   "source": [
    "b = a.split(',')\n",
    "b"
   ]
  },
  {
   "cell_type": "markdown",
   "metadata": {},
   "source": [
    "### Useful Functions\n",
    "\n",
    "* type(), len()\n",
    "* list(), str(), int()"
   ]
  },
  {
   "cell_type": "code",
   "execution_count": 20,
   "metadata": {
    "scrolled": true
   },
   "outputs": [
    {
     "name": "stdout",
     "output_type": "stream",
     "text": [
      "<class 'list'> <class 'tuple'> <class 'dict'> <class 'str'> <class 'list'>\n",
      "5 5 2 12 3\n"
     ]
    }
   ],
   "source": [
    "a = [ 10, 20, 30, 40, 50 ]\n",
    "b = ( 10, 20, 30, 40, 50 )\n",
    "c = { \"KIM\": 90, \"LEE\": 80 }\n",
    "d = 'Seoul, Korea'\n",
    "e = [ [ 100, 200 ], [ 300, 400 ], [ 500, 600 ] ]\n",
    "\n",
    "print(type(a), type(b), type(c), type(d), type(e))\n",
    "print(len(a), len(b), len(c), len(d), len(e))"
   ]
  },
  {
   "cell_type": "code",
   "execution_count": 21,
   "metadata": {},
   "outputs": [
    {
     "name": "stdout",
     "output_type": "stream",
     "text": [
      "['S', 'e', 'o', 'u', 'l', ',', ' ', 'K', 'o', 'r', 'e', 'a'] ['KIM', 'LEE'] [90, 80] [('KIM', 90), ('LEE', 80)]\n"
     ]
    }
   ],
   "source": [
    "print(list(d), list(c.keys()), list(c.values()), list(c.items()))"
   ]
  },
  {
   "cell_type": "code",
   "execution_count": 22,
   "metadata": {},
   "outputs": [
    {
     "data": {
      "text/plain": [
       "'3.14'"
      ]
     },
     "execution_count": 22,
     "metadata": {},
     "output_type": "execute_result"
    }
   ],
   "source": [
    "str(3.14)"
   ]
  },
  {
   "cell_type": "code",
   "execution_count": 23,
   "metadata": {},
   "outputs": [
    {
     "data": {
      "text/plain": [
       "'100'"
      ]
     },
     "execution_count": 23,
     "metadata": {},
     "output_type": "execute_result"
    }
   ],
   "source": [
    "str('100')"
   ]
  },
  {
   "cell_type": "code",
   "execution_count": 24,
   "metadata": {},
   "outputs": [
    {
     "data": {
      "text/plain": [
       "'[1, 2, 3]'"
      ]
     },
     "execution_count": 24,
     "metadata": {},
     "output_type": "execute_result"
    }
   ],
   "source": [
    "str([1, 2, 3])"
   ]
  },
  {
   "cell_type": "code",
   "execution_count": 25,
   "metadata": {},
   "outputs": [
    {
     "data": {
      "text/plain": [
       "100"
      ]
     },
     "execution_count": 25,
     "metadata": {},
     "output_type": "execute_result"
    }
   ],
   "source": [
    "int('100')"
   ]
  },
  {
   "cell_type": "code",
   "execution_count": 26,
   "metadata": {},
   "outputs": [
    {
     "data": {
      "text/plain": [
       "3"
      ]
     },
     "execution_count": 26,
     "metadata": {},
     "output_type": "execute_result"
    }
   ],
   "source": [
    "int(3.14)"
   ]
  }
 ],
 "metadata": {
  "kernelspec": {
   "display_name": "Python 3",
   "language": "python",
   "name": "python3"
  },
  "language_info": {
   "codemirror_mode": {
    "name": "ipython",
    "version": 3
   },
   "file_extension": ".py",
   "mimetype": "text/x-python",
   "name": "python",
   "nbconvert_exporter": "python",
   "pygments_lexer": "ipython3",
   "version": "3.7.0"
  }
 },
 "nbformat": 4,
 "nbformat_minor": 2
}

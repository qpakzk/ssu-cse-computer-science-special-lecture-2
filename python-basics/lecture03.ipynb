{
 "cells": [
  {
   "cell_type": "markdown",
   "metadata": {},
   "source": [
    "# Python Basics\n",
    "\n",
    "## Function, Class and Exception"
   ]
  },
  {
   "cell_type": "markdown",
   "metadata": {},
   "source": [
    "### Function"
   ]
  },
  {
   "cell_type": "code",
   "execution_count": 1,
   "metadata": {},
   "outputs": [
    {
     "data": {
      "text/plain": [
       "30"
      ]
     },
     "execution_count": 1,
     "metadata": {},
     "output_type": "execute_result"
    }
   ],
   "source": [
    "def sum(x, y):\n",
    "    s = x + y\n",
    "    return s\n",
    "sum(10, 20)"
   ]
  },
  {
   "cell_type": "code",
   "execution_count": 2,
   "metadata": {},
   "outputs": [
    {
     "name": "stdout",
     "output_type": "stream",
     "text": [
      "101 102 103\n"
     ]
    }
   ],
   "source": [
    "def multi_ret_func(x):\n",
    "    return x + 1, x + 2, x + 3\n",
    "\n",
    "x = 100\n",
    "y1, y2, y3 = multi_ret_func(x)\n",
    "\n",
    "print(y1, y2, y3)"
   ]
  },
  {
   "cell_type": "code",
   "execution_count": 3,
   "metadata": {},
   "outputs": [
    {
     "name": "stdout",
     "output_type": "stream",
     "text": [
      "name == DAVE\n",
      "name == DAVE\n"
     ]
    }
   ],
   "source": [
    "def print_name(name, count=2):\n",
    "    for i in range(count):\n",
    "        print(\"name ==\", name)\n",
    "print_name(\"DAVE\")"
   ]
  },
  {
   "cell_type": "code",
   "execution_count": 4,
   "metadata": {},
   "outputs": [
    {
     "name": "stdout",
     "output_type": "stream",
     "text": [
      "Before : x ==  1 , test_list == [1, 2, 3]\n",
      "After : x ==  1 , test_list == [1, 2, 3, 100]\n"
     ]
    }
   ],
   "source": [
    "def mutable_immutable_func(int_x, input_list):\n",
    "    int_x += 1\n",
    "    input_list.append(100)\n",
    "\n",
    "x = 1\n",
    "test_list = [ 1, 2, 3 ]\n",
    "\n",
    "print(\"Before : x == \", x, \", test_list ==\", test_list)\n",
    "mutable_immutable_func(x, test_list)\n",
    "print(\"After : x == \", x, \", test_list ==\", test_list)"
   ]
  },
  {
   "cell_type": "markdown",
   "metadata": {},
   "source": [
    "#### lambda expression"
   ]
  },
  {
   "cell_type": "code",
   "execution_count": 5,
   "metadata": {},
   "outputs": [
    {
     "name": "stdout",
     "output_type": "stream",
     "text": [
      "100\n",
      "101\n",
      "102\n"
     ]
    }
   ],
   "source": [
    "f = lambda x : x + 100\n",
    "\n",
    "for i in range(3):\n",
    "    print(f(i))"
   ]
  },
  {
   "cell_type": "code",
   "execution_count": 6,
   "metadata": {},
   "outputs": [
    {
     "name": "stdout",
     "output_type": "stream",
     "text": [
      "input1 == 100 , input2 == 200\n",
      "Hello python!\n"
     ]
    }
   ],
   "source": [
    "def print_hello():\n",
    "    print(\"Hello python!\")\n",
    "\n",
    "def test_lambda(s, t):\n",
    "    print(\"input1 ==\", s, \", input2 ==\", t)\n",
    "    \n",
    "s = 100\n",
    "t = 200\n",
    "\n",
    "fx = lambda x, y : test_lambda(s, t)\n",
    "fy = lambda x, y : print_hello()\n",
    "\n",
    "fx(500, 1000)\n",
    "fy(300, 600)"
   ]
  },
  {
   "cell_type": "markdown",
   "metadata": {},
   "source": [
    "### Class"
   ]
  },
  {
   "cell_type": "code",
   "execution_count": 7,
   "metadata": {},
   "outputs": [
    {
     "name": "stdout",
     "output_type": "stream",
     "text": [
      "Frodo is initialized.\n",
      "Frodo is working in Google.\n",
      "Frodo is sleeping.\n",
      "Current person object is Frodo.\n"
     ]
    }
   ],
   "source": [
    "class Person:\n",
    "    def __init__(self, name):\n",
    "        self.name = name\n",
    "        print(self.name + \" is initialized.\")\n",
    "    \n",
    "    def work(self, company):\n",
    "        print(self.name + \" is working in \" + company + \".\")\n",
    "    \n",
    "    def sleep(self):\n",
    "        print(self.name + \" is sleeping.\")\n",
    "\n",
    "obj = Person(\"Frodo\")\n",
    "obj.work(\"Google\")\n",
    "obj.sleep()\n",
    "\n",
    "print(\"Current person object is \" + obj.name + \".\")"
   ]
  },
  {
   "cell_type": "code",
   "execution_count": 8,
   "metadata": {},
   "outputs": [
    {
     "name": "stdout",
     "output_type": "stream",
     "text": [
      "PARK is initialized.\n",
      "KIM is initialized.\n",
      "PARK is working in Google.\n",
      "KIM is sleeping.\n",
      "Current person object is PARK, KIM .\n",
      "Person Count == 2\n",
      "2\n"
     ]
    }
   ],
   "source": [
    "class Person:\n",
    "    count = 0\n",
    "    \n",
    "    def __init__(self, name):\n",
    "        self.name = name\n",
    "        Person.count += 1\n",
    "        print(self.name + \" is initialized.\")\n",
    "    \n",
    "    def work(self, company):\n",
    "        print(self.name + \" is working in \" + company + \".\")\n",
    "    \n",
    "    def sleep(self):\n",
    "        print(self.name + \" is sleeping.\")\n",
    "    \n",
    "    @classmethod\n",
    "    def getCount(cls):\n",
    "        return cls.count\n",
    "\n",
    "obj1 = Person(\"PARK\")\n",
    "obj2 = Person(\"KIM\")\n",
    "\n",
    "obj1.work(\"Google\")\n",
    "\n",
    "obj2.sleep()\n",
    "\n",
    "print(\"Current person object is \" + obj1.name + \", \" + obj2.name, \".\")\n",
    "print(\"Person Count ==\", Person.getCount())\n",
    "print(Person.count)"
   ]
  },
  {
   "cell_type": "code",
   "execution_count": 9,
   "metadata": {},
   "outputs": [
    {
     "name": "stdout",
     "output_type": "stream",
     "text": [
      "Initialized with PARK, KIM\n",
      "PARK\n",
      "PARK KIM\n",
      "('PARK', 'KIM')\n"
     ]
    },
    {
     "ename": "AttributeError",
     "evalue": "'PrivateMemberTest' object has no attribute '__printNames'",
     "output_type": "error",
     "traceback": [
      "\u001b[0;31m---------------------------------------------------------------------------\u001b[0m",
      "\u001b[0;31mAttributeError\u001b[0m                            Traceback (most recent call last)",
      "\u001b[0;32m<ipython-input-9-2f334db14708>\u001b[0m in \u001b[0;36m<module>\u001b[0;34m()\u001b[0m\n\u001b[1;32m     17\u001b[0m \u001b[0mprint\u001b[0m\u001b[0;34m(\u001b[0m\u001b[0mobj\u001b[0m\u001b[0;34m.\u001b[0m\u001b[0mname1\u001b[0m\u001b[0;34m)\u001b[0m\u001b[0;34m\u001b[0m\u001b[0m\n\u001b[1;32m     18\u001b[0m \u001b[0mprint\u001b[0m\u001b[0;34m(\u001b[0m\u001b[0mobj\u001b[0m\u001b[0;34m.\u001b[0m\u001b[0mgetNames\u001b[0m\u001b[0;34m(\u001b[0m\u001b[0;34m)\u001b[0m\u001b[0;34m)\u001b[0m\u001b[0;34m\u001b[0m\u001b[0m\n\u001b[0;32m---> 19\u001b[0;31m \u001b[0mprint\u001b[0m\u001b[0;34m(\u001b[0m\u001b[0mobj\u001b[0m\u001b[0;34m.\u001b[0m\u001b[0m__printNames\u001b[0m\u001b[0;34m(\u001b[0m\u001b[0;34m)\u001b[0m\u001b[0;34m)\u001b[0m\u001b[0;34m\u001b[0m\u001b[0m\n\u001b[0m\u001b[1;32m     20\u001b[0m \u001b[0mprint\u001b[0m\u001b[0;34m(\u001b[0m\u001b[0mobj\u001b[0m\u001b[0;34m.\u001b[0m\u001b[0m__name2\u001b[0m\u001b[0;34m)\u001b[0m\u001b[0;34m\u001b[0m\u001b[0m\n",
      "\u001b[0;31mAttributeError\u001b[0m: 'PrivateMemberTest' object has no attribute '__printNames'"
     ]
    }
   ],
   "source": [
    "class PrivateMemberTest:\n",
    "    def __init__(self, name1, name2):\n",
    "        self.name1 = name1\n",
    "        self.__name2 = name2\n",
    "        print(\"Initialized with \" + name1 + \", \" + name2)\n",
    "    \n",
    "    def getNames(self):\n",
    "        self.__printNames()\n",
    "        return self.name1, self.__name2\n",
    "    \n",
    "    def __printNames(self):\n",
    "        print(self.name1, self.__name2)\n",
    "        \n",
    "\n",
    "obj = PrivateMemberTest(\"PARK\", \"KIM\")\n",
    "\n",
    "print(obj.name1)\n",
    "print(obj.getNames())\n",
    "print(obj.__printNames())\n",
    "print(obj.__name2)"
   ]
  },
  {
   "cell_type": "code",
   "execution_count": 10,
   "metadata": {},
   "outputs": [
    {
     "name": "stdout",
     "output_type": "stream",
     "text": [
      "[def]  Hong\n",
      "[SameTest]  Yoo\n",
      "[def]  KIM\n",
      "[SameTest]  LEE\n"
     ]
    }
   ],
   "source": [
    "def print_name(name):\n",
    "    print(\"[def] \", name)\n",
    "\n",
    "class SameTest:\n",
    "    def __init__(self):\n",
    "        pass\n",
    "    \n",
    "    def print_name(self, name):\n",
    "        print(\"[SameTest] \", name)\n",
    "    \n",
    "    def call_test(self):\n",
    "        print_name(\"KIM\")\n",
    "        self.print_name(\"LEE\")\n",
    "\n",
    "obj = SameTest()\n",
    "print_name(\"Hong\")\n",
    "obj.print_name(\"Yoo\")\n",
    "obj.call_test()"
   ]
  },
  {
   "cell_type": "code",
   "execution_count": 11,
   "metadata": {},
   "outputs": [],
   "source": [
    "def calc(list_data):\n",
    "    sum = 0\n",
    "    \n",
    "    try:\n",
    "        sum = list_data[0] + list_data[1] + list_data[2]\n",
    "        \n",
    "        if sum < 0:\n",
    "            raise Exception(\"Sum is minus.\")\n",
    "    except IndexError as err:\n",
    "        print(str(err))\n",
    "    except Exception as err:\n",
    "        print(str(err))\n",
    "    finally:\n",
    "        print(sum)"
   ]
  },
  {
   "cell_type": "code",
   "execution_count": 12,
   "metadata": {},
   "outputs": [
    {
     "name": "stdout",
     "output_type": "stream",
     "text": [
      "list index out of range\n",
      "0\n"
     ]
    }
   ],
   "source": [
    "calc([1, 2])"
   ]
  },
  {
   "cell_type": "code",
   "execution_count": 13,
   "metadata": {},
   "outputs": [
    {
     "name": "stdout",
     "output_type": "stream",
     "text": [
      "Sum is minus.\n",
      "-97\n"
     ]
    }
   ],
   "source": [
    "calc([1, 2, -100])"
   ]
  },
  {
   "cell_type": "markdown",
   "metadata": {},
   "source": [
    "### with statement"
   ]
  },
  {
   "cell_type": "code",
   "execution_count": 14,
   "metadata": {},
   "outputs": [],
   "source": [
    "f = open(\"./file_test\", 'w')\n",
    "f.write(\"Hello Python!\")\n",
    "f.close()"
   ]
  },
  {
   "cell_type": "code",
   "execution_count": 15,
   "metadata": {},
   "outputs": [],
   "source": [
    "with open(\"./file_test\", \"w\") as f:\n",
    "    f.write(\"Hello Python!\")"
   ]
  }
 ],
 "metadata": {
  "kernelspec": {
   "display_name": "Python 3",
   "language": "python",
   "name": "python3"
  },
  "language_info": {
   "codemirror_mode": {
    "name": "ipython",
    "version": 3
   },
   "file_extension": ".py",
   "mimetype": "text/x-python",
   "name": "python",
   "nbconvert_exporter": "python",
   "pygments_lexer": "ipython3",
   "version": "3.7.0"
  }
 },
 "nbformat": 4,
 "nbformat_minor": 2
}

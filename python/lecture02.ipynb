{
 "cells": [
  {
   "cell_type": "markdown",
   "metadata": {},
   "source": [
    "# Python for ML/DL\n",
    "\n",
    "## Loop and Control Statement\n",
    "\n",
    "* if statement (control)\n",
    "* for statement (Loop)\n",
    "* while statement (Loop)"
   ]
  },
  {
   "cell_type": "markdown",
   "metadata": {},
   "source": [
    "### if statement"
   ]
  },
  {
   "cell_type": "code",
   "execution_count": 1,
   "metadata": {},
   "outputs": [
    {
     "name": "stdout",
     "output_type": "stream",
     "text": [
      "a == 1\n",
      "positive number\n"
     ]
    }
   ],
   "source": [
    "a = 1\n",
    "\n",
    "if a > 0:\n",
    "    print(\"a ==\", a)\n",
    "    print(\"positive number\")\n",
    "elif a == 0:\n",
    "    print(\"a ==\", a)\n",
    "    print(\"zero\")\n",
    "else:\n",
    "    print(\"a ==\", a)\n",
    "    print(\"negative number\")"
   ]
  },
  {
   "cell_type": "code",
   "execution_count": 2,
   "metadata": {},
   "outputs": [
    {
     "name": "stdout",
     "output_type": "stream",
     "text": [
      "45 isn't in list_data.\n",
      "key1 is in dict_data.\n"
     ]
    }
   ],
   "source": [
    "list_data = [ 10, 20, 30, 40, 50 ]\n",
    "dict_data = { 'key1': 1, 'key2': 2 }\n",
    "\n",
    "if 45 in list_data:\n",
    "    print(\"45 is in list_data.\")\n",
    "else:\n",
    "    print(\"45 isn't in list_data.\")\n",
    "\n",
    "if 'key1' in dict_data:\n",
    "    print(\"key1 is in dict_data.\")\n",
    "else:\n",
    "    print(\"key1 isn't in dict_data.\")"
   ]
  },
  {
   "cell_type": "markdown",
   "metadata": {},
   "source": [
    "### for statement"
   ]
  },
  {
   "cell_type": "code",
   "execution_count": 3,
   "metadata": {},
   "outputs": [
    {
     "name": "stdout",
     "output_type": "stream",
     "text": [
      "0  1  2  3  4  5  6  7  8  9  "
     ]
    }
   ],
   "source": [
    "for data in range(10):\n",
    "    print(data, \" \", end='')"
   ]
  },
  {
   "cell_type": "code",
   "execution_count": 4,
   "metadata": {},
   "outputs": [
    {
     "name": "stdout",
     "output_type": "stream",
     "text": [
      "0  1  2  3  4  5  6  7  8  9  "
     ]
    }
   ],
   "source": [
    "for data in range(0,10):\n",
    "    print(data, \" \", end='')"
   ]
  },
  {
   "cell_type": "code",
   "execution_count": 5,
   "metadata": {},
   "outputs": [
    {
     "name": "stdout",
     "output_type": "stream",
     "text": [
      "0  2  4  6  8  "
     ]
    }
   ],
   "source": [
    "for data in range(0, 10, 2):\n",
    "    print(data, \" \", end='')"
   ]
  },
  {
   "cell_type": "code",
   "execution_count": 6,
   "metadata": {},
   "outputs": [
    {
     "name": "stdout",
     "output_type": "stream",
     "text": [
      "10  20  30  40  50  "
     ]
    }
   ],
   "source": [
    "for data in list_data:\n",
    "    print(data, \" \", end='')"
   ]
  },
  {
   "cell_type": "code",
   "execution_count": 7,
   "metadata": {},
   "outputs": [
    {
     "name": "stdout",
     "output_type": "stream",
     "text": [
      "key1  key2  "
     ]
    }
   ],
   "source": [
    "for data in dict_data:\n",
    "    print(data, \" \", end='')"
   ]
  },
  {
   "cell_type": "code",
   "execution_count": 8,
   "metadata": {},
   "outputs": [
    {
     "name": "stdout",
     "output_type": "stream",
     "text": [
      "key1   1\n",
      "key2   2\n"
     ]
    }
   ],
   "source": [
    "for key, val in dict_data.items():\n",
    "    print(key, \" \", val)"
   ]
  },
  {
   "cell_type": "markdown",
   "metadata": {},
   "source": [
    "#### List Comprehension"
   ]
  },
  {
   "cell_type": "code",
   "execution_count": 9,
   "metadata": {},
   "outputs": [
    {
     "data": {
      "text/plain": [
       "[0, 1, 4, 9, 16]"
      ]
     },
     "execution_count": 9,
     "metadata": {},
     "output_type": "execute_result"
    }
   ],
   "source": [
    "list_data = [ x**2 for x in range(5) ]\n",
    "list_data"
   ]
  },
  {
   "cell_type": "code",
   "execution_count": 10,
   "metadata": {},
   "outputs": [
    {
     "name": "stdout",
     "output_type": "stream",
     "text": [
      "all_data == [[1, 10], [2, 15], [3, 30], [4, 55]]\n",
      "x_data == [1, 2, 3, 4]\n",
      "y_data == [10, 15, 30, 55]\n"
     ]
    }
   ],
   "source": [
    "raw_data = [ [1, 10], [2, 15], [3, 30], [4, 55] ]\n",
    "all_data = [ x for x in raw_data ]\n",
    "x_data = [ x[0] for x in raw_data ]\n",
    "y_data = [ x[1] for x in raw_data ]\n",
    "\n",
    "print(\"all_data ==\", all_data)\n",
    "print(\"x_data ==\", x_data)\n",
    "print(\"y_data ==\", y_data)"
   ]
  },
  {
   "cell_type": "code",
   "execution_count": 11,
   "metadata": {},
   "outputs": [
    {
     "data": {
      "text/plain": [
       "[0, 2, 4, 6, 8]"
      ]
     },
     "execution_count": 11,
     "metadata": {},
     "output_type": "execute_result"
    }
   ],
   "source": [
    "even_number = []\n",
    "\n",
    "for data in range(10):\n",
    "    if data % 2 == 0:\n",
    "        even_number.append(data)\n",
    "\n",
    "even_number"
   ]
  },
  {
   "cell_type": "code",
   "execution_count": 12,
   "metadata": {},
   "outputs": [
    {
     "data": {
      "text/plain": [
       "[0, 2, 4, 6, 8]"
      ]
     },
     "execution_count": 12,
     "metadata": {},
     "output_type": "execute_result"
    }
   ],
   "source": [
    "even_number = [ data for data in range(10) if data % 2 == 0 ]\n",
    "\n",
    "even_number"
   ]
  },
  {
   "cell_type": "markdown",
   "metadata": {},
   "source": [
    "### while statement"
   ]
  },
  {
   "cell_type": "code",
   "execution_count": 13,
   "metadata": {},
   "outputs": [
    {
     "name": "stdout",
     "output_type": "stream",
     "text": [
      "data == 5\n",
      "data == 4\n",
      "data == 3\n",
      "data == 2\n",
      "data == 1\n",
      "data == 0\n"
     ]
    }
   ],
   "source": [
    "data = 5\n",
    "\n",
    "while data >= 0:\n",
    "    print(\"data ==\", data)\n",
    "    data -= 1"
   ]
  },
  {
   "cell_type": "code",
   "execution_count": 14,
   "metadata": {},
   "outputs": [
    {
     "name": "stdout",
     "output_type": "stream",
     "text": [
      "data == 5\n",
      "continue here\n",
      "data == 4\n",
      "continue here\n",
      "data == 3\n",
      "break here\n"
     ]
    }
   ],
   "source": [
    "data = 5\n",
    "while data >= 0:\n",
    "    print(\"data ==\", data)\n",
    "    data -= 1\n",
    "    \n",
    "    if data == 2:\n",
    "        print(\"break here\")\n",
    "        break\n",
    "    else:\n",
    "        print(\"continue here\")\n",
    "        continue"
   ]
  }
 ],
 "metadata": {
  "kernelspec": {
   "display_name": "Python 3",
   "language": "python",
   "name": "python3"
  },
  "language_info": {
   "codemirror_mode": {
    "name": "ipython",
    "version": 3
   },
   "file_extension": ".py",
   "mimetype": "text/x-python",
   "name": "python",
   "nbconvert_exporter": "python",
   "pygments_lexer": "ipython3",
   "version": "3.7.0"
  }
 },
 "nbformat": 4,
 "nbformat_minor": 2
}
